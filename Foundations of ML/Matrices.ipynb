{
 "cells": [
  {
   "cell_type": "markdown",
   "id": "65d1cc86-e76f-45d9-a3ed-891beea0bd04",
   "metadata": {},
   "source": [
    "# MATRICES"
   ]
  },
  {
   "cell_type": "markdown",
   "id": "e07d1a34-a27f-4c18-b155-07801d62d4b4",
   "metadata": {},
   "source": [
    "* In mathematics, a matrix is a rectangular array of numbers, symbols, or expressions arranged in rows and columns. The numbers in a matrix are called its elements or entries.\n",
    "* Matrices have many uses in engineering, physics, economics, statistics, and various branches of mathematics."
   ]
  },
  {
   "cell_type": "raw",
   "id": "262a038b-0e44-4ac2-b2c4-d65276de88d2",
   "metadata": {},
   "source": [
    "- NumPy is a Python library that's used for a variety of scientific and mathematical tasks.\n",
    "- NumPy can be used for cleaning, transforming, and aggregating data.\n",
    "- NumPy is used for a range of mathematical operations, including linear algebra, statistical analysis, Fourier analysis, and trigonometric operations.\n",
    "- NumPy is the core library for scientific computing and is used as the foundation for other libraries like Pandas, Scikit-learn, and SciPy."
   ]
  },
  {
   "cell_type": "code",
   "execution_count": 1,
   "id": "54535143-2317-462a-ba9d-65ec2207a0b3",
   "metadata": {},
   "outputs": [],
   "source": [
    "import numpy as np"
   ]
  },
  {
   "cell_type": "code",
   "execution_count": 2,
   "id": "65954eb9-a749-4136-885c-02feb485017c",
   "metadata": {},
   "outputs": [
    {
     "data": {
      "text/plain": [
       "array([[1, 2, 3],\n",
       "       [4, 5, 6],\n",
       "       [7, 8, 9]])"
      ]
     },
     "execution_count": 2,
     "metadata": {},
     "output_type": "execute_result"
    }
   ],
   "source": [
    "matrix = np.array([[1,2,3],[4,5,6],[7,8,9]])\n",
    "matrix"
   ]
  },
  {
   "cell_type": "raw",
   "id": "fc69a8db-8fbd-42ab-9c14-b0c9fd5e50d4",
   "metadata": {},
   "source": [
    "- To create special matrices like:\n",
    "1. Zero Matrix\n",
    "2. Ones Matrix\n",
    "3. Identity Matrix"
   ]
  },
  {
   "cell_type": "code",
   "execution_count": 3,
   "id": "ac95f680-cfa8-4869-abb2-027a389ac4f4",
   "metadata": {},
   "outputs": [],
   "source": [
    "zero_matrix = np.zeros((3,3))\n",
    "ones_matrix = np.ones((2,4))\n",
    "identity_matrix = np.eye((3))"
   ]
  },
  {
   "cell_type": "code",
   "execution_count": 4,
   "id": "4a8cba19-f23e-486d-b8d2-5901a2c0b736",
   "metadata": {},
   "outputs": [
    {
     "data": {
      "text/plain": [
       "array([[0., 0., 0.],\n",
       "       [0., 0., 0.],\n",
       "       [0., 0., 0.]])"
      ]
     },
     "execution_count": 4,
     "metadata": {},
     "output_type": "execute_result"
    }
   ],
   "source": [
    "zero_matrix"
   ]
  },
  {
   "cell_type": "code",
   "execution_count": 5,
   "id": "715a7b0b-01c5-4c07-907d-7af914256a69",
   "metadata": {},
   "outputs": [
    {
     "data": {
      "text/plain": [
       "array([[1., 1., 1., 1.],\n",
       "       [1., 1., 1., 1.]])"
      ]
     },
     "execution_count": 5,
     "metadata": {},
     "output_type": "execute_result"
    }
   ],
   "source": [
    "ones_matrix"
   ]
  },
  {
   "cell_type": "code",
   "execution_count": 6,
   "id": "519bd10c-552d-4787-a641-567e59d564aa",
   "metadata": {},
   "outputs": [
    {
     "data": {
      "text/plain": [
       "array([[1., 0., 0.],\n",
       "       [0., 1., 0.],\n",
       "       [0., 0., 1.]])"
      ]
     },
     "execution_count": 6,
     "metadata": {},
     "output_type": "execute_result"
    }
   ],
   "source": [
    "identity_matrix"
   ]
  },
  {
   "cell_type": "raw",
   "id": "6452ad2b-2bc7-4473-ab59-dd5a49bcea8c",
   "metadata": {},
   "source": [
    "- To find size of the matrix"
   ]
  },
  {
   "cell_type": "code",
   "execution_count": 7,
   "id": "d937069a-c530-4476-a718-f5a2aef1b0ca",
   "metadata": {},
   "outputs": [
    {
     "data": {
      "text/plain": [
       "array([[1, 2, 3],\n",
       "       [4, 5, 6],\n",
       "       [7, 8, 9]])"
      ]
     },
     "execution_count": 7,
     "metadata": {},
     "output_type": "execute_result"
    }
   ],
   "source": [
    "matrix"
   ]
  },
  {
   "cell_type": "code",
   "execution_count": 8,
   "id": "530b0700-fc88-4e94-bb33-e1a3593063a0",
   "metadata": {},
   "outputs": [
    {
     "data": {
      "text/plain": [
       "(3, 3)"
      ]
     },
     "execution_count": 8,
     "metadata": {},
     "output_type": "execute_result"
    }
   ],
   "source": [
    "matrix.shape"
   ]
  },
  {
   "cell_type": "code",
   "execution_count": 9,
   "id": "87e8aebe-de15-4978-a8e5-5735a6d41155",
   "metadata": {},
   "outputs": [
    {
     "data": {
      "text/plain": [
       "9"
      ]
     },
     "execution_count": 9,
     "metadata": {},
     "output_type": "execute_result"
    }
   ],
   "source": [
    "matrix.size"
   ]
  },
  {
   "cell_type": "markdown",
   "id": "f95fb56e-1c82-411f-8f81-dd77ca13fd6d",
   "metadata": {},
   "source": [
    "### Basic Operations:"
   ]
  },
  {
   "cell_type": "markdown",
   "id": "dc138e28-9317-4338-a5b2-95b778167b04",
   "metadata": {},
   "source": [
    "#### 1. Matrix Addition:"
   ]
  },
  {
   "cell_type": "raw",
   "id": "f22d106a-d523-4192-a81c-de7b0ed5c9f2",
   "metadata": {},
   "source": [
    "- only possible when the dimensions of the matrices are same"
   ]
  },
  {
   "cell_type": "code",
   "execution_count": 10,
   "id": "f114b7e6-35fb-406d-8ced-6fed0f361599",
   "metadata": {},
   "outputs": [],
   "source": [
    "a1 = np.array([[1,2,3],[4,5,6],[7,8,9]])\n",
    "a2 = np.array([[3,2,1],[6,5,4],[9,8,7]])"
   ]
  },
  {
   "cell_type": "code",
   "execution_count": 11,
   "id": "6096bd19-3d21-4c44-9b82-b5160794a709",
   "metadata": {},
   "outputs": [
    {
     "data": {
      "text/plain": [
       "(array([[1, 2, 3],\n",
       "        [4, 5, 6],\n",
       "        [7, 8, 9]]),\n",
       " array([[3, 2, 1],\n",
       "        [6, 5, 4],\n",
       "        [9, 8, 7]]))"
      ]
     },
     "execution_count": 11,
     "metadata": {},
     "output_type": "execute_result"
    }
   ],
   "source": [
    "a1, a2"
   ]
  },
  {
   "cell_type": "code",
   "execution_count": 12,
   "id": "c3c9ef04-fc54-4f67-a06f-5e3292dcf190",
   "metadata": {},
   "outputs": [
    {
     "data": {
      "text/plain": [
       "array([[ 4,  4,  4],\n",
       "       [10, 10, 10],\n",
       "       [16, 16, 16]])"
      ]
     },
     "execution_count": 12,
     "metadata": {},
     "output_type": "execute_result"
    }
   ],
   "source": [
    "matrix_sum = a1 + a2\n",
    "matrix_sum"
   ]
  },
  {
   "cell_type": "markdown",
   "id": "0ce3dd91-3a8f-492c-a5ad-869f1dbe085a",
   "metadata": {},
   "source": [
    "#### 2. Matrix Subtraction"
   ]
  },
  {
   "cell_type": "raw",
   "id": "41b48d66-a096-4e4f-bfda-f21131bb3619",
   "metadata": {},
   "source": [
    "- only possible when the dimensions of the matrices are same"
   ]
  },
  {
   "cell_type": "code",
   "execution_count": 13,
   "id": "b91b9d2d-b5a1-493b-b891-075b127c6581",
   "metadata": {},
   "outputs": [
    {
     "data": {
      "text/plain": [
       "array([[-2,  0,  2],\n",
       "       [-2,  0,  2],\n",
       "       [-2,  0,  2]])"
      ]
     },
     "execution_count": 13,
     "metadata": {},
     "output_type": "execute_result"
    }
   ],
   "source": [
    "matrix_diff = a1 - a2\n",
    "matrix_diff"
   ]
  },
  {
   "cell_type": "markdown",
   "id": "b4d997ad-813e-4ea9-b471-c9f34c9f65e4",
   "metadata": {},
   "source": [
    "#### 3. Scalar Multiplication:"
   ]
  },
  {
   "cell_type": "raw",
   "id": "b4d66960-28ac-4c09-a5f5-a8b4c95ed3ab",
   "metadata": {},
   "source": [
    "- Multiplying a matrix by a scalar (numeric value)"
   ]
  },
  {
   "cell_type": "code",
   "execution_count": 14,
   "id": "46357295-e538-4b55-aa12-df327822859b",
   "metadata": {},
   "outputs": [
    {
     "data": {
      "text/plain": [
       "array([[ 3,  6,  9],\n",
       "       [12, 15, 18],\n",
       "       [21, 24, 27]])"
      ]
     },
     "execution_count": 14,
     "metadata": {},
     "output_type": "execute_result"
    }
   ],
   "source": [
    "scalar = 3\n",
    "s_matrix = matrix * scalar\n",
    "s_matrix"
   ]
  },
  {
   "cell_type": "markdown",
   "id": "d4f0569c-a3c1-4b83-87cb-6c492a26db12",
   "metadata": {},
   "source": [
    "#### 4. Matrix Multiplication"
   ]
  },
  {
   "cell_type": "raw",
   "id": "f0a0882e-d2db-4c09-b184-1921c1f0a413",
   "metadata": {},
   "source": [
    "- Matrix product (dot product) and element-wise multiplication.\n",
    "- only possible if no. of cols in matrix1 is equal to no. of rows in matrix2"
   ]
  },
  {
   "cell_type": "code",
   "execution_count": 15,
   "id": "585f2c3f-53ef-4580-9ef9-7cebda2d0e19",
   "metadata": {},
   "outputs": [
    {
     "data": {
      "text/plain": [
       "array([[ 42,  36,  30],\n",
       "       [ 96,  81,  66],\n",
       "       [150, 126, 102]])"
      ]
     },
     "execution_count": 15,
     "metadata": {},
     "output_type": "execute_result"
    }
   ],
   "source": [
    "# Matrix multiplication\n",
    "matrix_product = np.dot(a1,a2)\n",
    "matrix_product"
   ]
  },
  {
   "cell_type": "code",
   "execution_count": 16,
   "id": "42c034d5-ff65-4e26-b18f-fb0b0f07b743",
   "metadata": {},
   "outputs": [
    {
     "data": {
      "text/plain": [
       "array([[ 3,  4,  3],\n",
       "       [24, 25, 24],\n",
       "       [63, 64, 63]])"
      ]
     },
     "execution_count": 16,
     "metadata": {},
     "output_type": "execute_result"
    }
   ],
   "source": [
    "# Element - wise multiplication\n",
    "ele_matrix = a1 * a2\n",
    "ele_matrix"
   ]
  },
  {
   "cell_type": "markdown",
   "id": "0f5b17f1-89d7-49be-8463-3d91431d3007",
   "metadata": {},
   "source": [
    "#### 5. Transpose of a Matrix"
   ]
  },
  {
   "cell_type": "raw",
   "id": "3dd44e44-49a7-4410-9663-c44a88b8bb29",
   "metadata": {},
   "source": [
    "IMPORTANT NOTE:\n",
    "\n",
    "- Matrix can be represented in two popular ways:\n",
    "  1. Nested List\n",
    "  2. Numpy Array"
   ]
  },
  {
   "cell_type": "code",
   "execution_count": 17,
   "id": "5217543f-a069-49c6-b9b4-d98b8cb9434c",
   "metadata": {},
   "outputs": [
    {
     "name": "stdout",
     "output_type": "stream",
     "text": [
      "a\n",
      " [[7, 8, 2, 3, 1, 4], [5, 1, 3, 4, 6, 2], [5, 7, 8, 2, 1, 3]]\n",
      "b\n",
      " [[7 5 5]\n",
      " [8 1 7]\n",
      " [2 3 8]\n",
      " [3 4 2]\n",
      " [1 6 1]\n",
      " [4 2 3]]\n"
     ]
    }
   ],
   "source": [
    "# Matrix as a Nested List\n",
    "\n",
    "a = [[7,8,2,3,1,4],[5,1,3,4,6,2],[5,7,8,2,1,3]]\n",
    "b = np.transpose(a)\n",
    "print('a\\n',a)\n",
    "print('b\\n',b)"
   ]
  },
  {
   "cell_type": "code",
   "execution_count": 18,
   "id": "a75122cb-7fce-40e8-9e72-d29067f15fa4",
   "metadata": {},
   "outputs": [
    {
     "name": "stdout",
     "output_type": "stream",
     "text": [
      "a\n",
      " [[7 8 2 3 1 4]\n",
      " [5 1 3 4 6 2]\n",
      " [5 7 8 2 1 3]]\n",
      "b\n",
      " [[7 5 5]\n",
      " [8 1 7]\n",
      " [2 3 8]\n",
      " [3 4 2]\n",
      " [1 6 1]\n",
      " [4 2 3]]\n"
     ]
    }
   ],
   "source": [
    "# Transpose of a Matrix (as NumPy array)\n",
    "a = np.array([[7,8,2,3,1,4],[5,1,3,4,6,2],[5,7,8,2,1,3]])\n",
    "b = a.T  # T gives transpose \n",
    "print('a\\n',a)\n",
    "print('b\\n',b)"
   ]
  },
  {
   "cell_type": "markdown",
   "id": "a5113794-2950-4a4c-a8f6-551515b264a3",
   "metadata": {},
   "source": [
    "#### 6. Dot Product:"
   ]
  },
  {
   "cell_type": "raw",
   "id": "0b7def38-d630-43fd-8784-cc59edf8d7eb",
   "metadata": {},
   "source": [
    "- The dot method of NumPy performs dot-matrix product (scalar product) for 1D or higher dimensional arrays.\n",
    "- If the inputs are scalars (numbers), it performs multiplication."
   ]
  },
  {
   "cell_type": "code",
   "execution_count": 19,
   "id": "af9eeae2-fb9c-4c0d-95ca-c10bb50271af",
   "metadata": {},
   "outputs": [
    {
     "name": "stdout",
     "output_type": "stream",
     "text": [
      "80\n"
     ]
    }
   ],
   "source": [
    " # scalars\n",
    " a = 8\n",
    " b = 10\n",
    " z = np.dot(a,b)\n",
    " print(z)"
   ]
  },
  {
   "cell_type": "code",
   "execution_count": 20,
   "id": "fa21540c-ac67-4322-b1ad-b2d3fd5fad64",
   "metadata": {},
   "outputs": [
    {
     "name": "stdout",
     "output_type": "stream",
     "text": [
      "80\n"
     ]
    }
   ],
   "source": [
    " z = a * b\n",
    " print(z)"
   ]
  },
  {
   "cell_type": "code",
   "execution_count": 21,
   "id": "f7d8148e-3a9b-4769-a027-f809b1d56785",
   "metadata": {},
   "outputs": [
    {
     "name": "stdout",
     "output_type": "stream",
     "text": [
      "[[ 39  76  83  47  63]\n",
      " [ 35  42  61  41  33]\n",
      " [ 55 100  82  75  63]]\n"
     ]
    }
   ],
   "source": [
    " # Nested list\n",
    " # 2D arrays or matrices\n",
    " a = [[7,8,2,3],[5,1,3,4],[5,7,8,2]]\n",
    " b = [[2,3,5,1,3],[1,5,3,2,4],[4,6,3,6,2],[3,1,6,4,2]]\n",
    " z = np.dot(a,b)\n",
    " print(z)\n",
    "# General matrix multiplication - multiply each row to each column"
   ]
  },
  {
   "cell_type": "code",
   "execution_count": 22,
   "id": "a5eae683-ef1a-4fa9-8602-6c8988d9b4dd",
   "metadata": {},
   "outputs": [
    {
     "name": "stdout",
     "output_type": "stream",
     "text": [
      "33\n"
     ]
    }
   ],
   "source": [
    " # Numpy array\n",
    " # 1D arrays or vectors\n",
    " a = np.array([3,4,5])  # or a = [3,4,5]\n",
    " b = np.array([1,5,2])  # or b = [1,5,2]\n",
    " z = np.dot(a,b)\n",
    " print(z)\n",
    "# sum of the product of the column elements - (3*1)+(4*5)+(5*2)"
   ]
  },
  {
   "cell_type": "code",
   "execution_count": 23,
   "id": "eaf92a5e-e29e-4004-a143-83e163d64486",
   "metadata": {},
   "outputs": [
    {
     "name": "stdout",
     "output_type": "stream",
     "text": [
      "33\n"
     ]
    }
   ],
   "source": [
    "# Direct Matrix Multiplication\n",
    "z = np.matmul(a,b)\n",
    "print(z)"
   ]
  },
  {
   "cell_type": "markdown",
   "id": "7b81b602-344d-4f8b-b4d3-06d513bf7c0d",
   "metadata": {},
   "source": [
    "#### 7. Matrix Inversion:"
   ]
  },
  {
   "cell_type": "raw",
   "id": "e1e190b0-b2b7-4d92-b9f1-8befe5790698",
   "metadata": {},
   "source": [
    "- Finding the matrix that, when multiplied with the original matrix, yields the identity matrix."
   ]
  },
  {
   "cell_type": "code",
   "execution_count": 24,
   "id": "7ea5ba37-ea33-424d-a6dc-a978f7c24bbe",
   "metadata": {},
   "outputs": [
    {
     "data": {
      "text/plain": [
       "array([[1, 2, 3],\n",
       "       [4, 5, 6],\n",
       "       [7, 8, 9]])"
      ]
     },
     "execution_count": 24,
     "metadata": {},
     "output_type": "execute_result"
    }
   ],
   "source": [
    "matrix"
   ]
  },
  {
   "cell_type": "code",
   "execution_count": 25,
   "id": "0300c95d-ea63-48a6-94de-fee5d4a6f9ee",
   "metadata": {},
   "outputs": [
    {
     "data": {
      "text/plain": [
       "array([[ 3.15251974e+15, -6.30503948e+15,  3.15251974e+15],\n",
       "       [-6.30503948e+15,  1.26100790e+16, -6.30503948e+15],\n",
       "       [ 3.15251974e+15, -6.30503948e+15,  3.15251974e+15]])"
      ]
     },
     "execution_count": 25,
     "metadata": {},
     "output_type": "execute_result"
    }
   ],
   "source": [
    "inverse_matrix = np.linalg.inv(matrix)\n",
    "inverse_matrix"
   ]
  },
  {
   "cell_type": "markdown",
   "id": "0fc7a3dd-19b2-4aaf-9e5a-195413c3e801",
   "metadata": {},
   "source": [
    "#### 8. Determinant of Matrix:"
   ]
  },
  {
   "cell_type": "raw",
   "id": "7c111d3b-b8ae-40b4-952d-a7b5637f724b",
   "metadata": {},
   "source": [
    "- A scalar value that is a function of the entries of a square matrix."
   ]
  },
  {
   "cell_type": "code",
   "execution_count": 26,
   "id": "255e2cc4-32c2-403f-893f-e44c0cb7447a",
   "metadata": {},
   "outputs": [
    {
     "data": {
      "text/plain": [
       "-9.51619735392994e-16"
      ]
     },
     "execution_count": 26,
     "metadata": {},
     "output_type": "execute_result"
    }
   ],
   "source": [
    "determinant = np.linalg.det(matrix)\n",
    "determinant"
   ]
  },
  {
   "cell_type": "markdown",
   "id": "9050d3e6-a84c-44cc-9750-92832112ac87",
   "metadata": {},
   "source": [
    "#### 9. Rank of a Matrix:"
   ]
  },
  {
   "cell_type": "raw",
   "id": "d1074aad-449c-4278-bc12-d43943e24d57",
   "metadata": {},
   "source": [
    "- The maximum number of linearly independent row or column vectors in the matrix."
   ]
  },
  {
   "cell_type": "code",
   "execution_count": 27,
   "id": "cfd1357c-dc28-4076-99da-036ffa50ed98",
   "metadata": {},
   "outputs": [
    {
     "data": {
      "text/plain": [
       "2"
      ]
     },
     "execution_count": 27,
     "metadata": {},
     "output_type": "execute_result"
    }
   ],
   "source": [
    "rank = np.linalg.matrix_rank(matrix)\n",
    "rank"
   ]
  },
  {
   "cell_type": "markdown",
   "id": "05cadc6f-7f9c-4bb5-a64a-dcbef6639adb",
   "metadata": {},
   "source": [
    "#### 10. Diagonal Matrix:"
   ]
  },
  {
   "cell_type": "raw",
   "id": "8687ffc3-711a-4256-af36-ab216602c364",
   "metadata": {},
   "source": [
    "- A matrix in which the entries outside the main diagonal are all zero."
   ]
  },
  {
   "cell_type": "code",
   "execution_count": 28,
   "id": "1534e39b-2cbe-4d76-9c4f-60ed21fa321f",
   "metadata": {},
   "outputs": [
    {
     "data": {
      "text/plain": [
       "array([[1, 0, 0],\n",
       "       [0, 2, 0],\n",
       "       [0, 0, 3]])"
      ]
     },
     "execution_count": 28,
     "metadata": {},
     "output_type": "execute_result"
    }
   ],
   "source": [
    "diagonal_matrix = np.diag([1,2,3])\n",
    "diagonal_matrix"
   ]
  },
  {
   "cell_type": "markdown",
   "id": "eda79473-9392-47a8-a504-bdf026d77eab",
   "metadata": {},
   "source": [
    "#### 11. Symmetric Matrix:"
   ]
  },
  {
   "cell_type": "raw",
   "id": "10752d96-7897-41d8-89c9-d2151fb2ee7c",
   "metadata": {},
   "source": [
    "- A square matrix that is equal to its transpose."
   ]
  },
  {
   "cell_type": "code",
   "execution_count": 29,
   "id": "2d1bab2d-d9bc-43c5-a7e2-ae5debe4fe70",
   "metadata": {},
   "outputs": [
    {
     "data": {
      "text/plain": [
       "array([[1, 2, 3],\n",
       "       [4, 5, 6],\n",
       "       [7, 8, 9]])"
      ]
     },
     "execution_count": 29,
     "metadata": {},
     "output_type": "execute_result"
    }
   ],
   "source": [
    "symmetric_matrix = np.array([[1,2,3],[4,5,6],[7,8,9]])\n",
    "symmetric_matrix"
   ]
  },
  {
   "cell_type": "markdown",
   "id": "512524a8-9c8e-40be-9b81-bbed9a0245d8",
   "metadata": {},
   "source": [
    "#### 12. Orthogonal Matrix:"
   ]
  },
  {
   "cell_type": "raw",
   "id": "f359d6d5-af82-47d0-8683-a3db89f29064",
   "metadata": {},
   "source": [
    "- A square matrix whose rows and columns are orthogonal unit vectors."
   ]
  },
  {
   "cell_type": "code",
   "execution_count": 30,
   "id": "1ff46cef-abc0-4f00-bc26-f7f652721410",
   "metadata": {},
   "outputs": [
    {
     "data": {
      "text/plain": [
       "array([[0, 1],\n",
       "       [1, 0]])"
      ]
     },
     "execution_count": 30,
     "metadata": {},
     "output_type": "execute_result"
    }
   ],
   "source": [
    "orthogonal_matrix = np.array([[0,1],[1,0]])\n",
    "orthogonal_matrix"
   ]
  },
  {
   "cell_type": "markdown",
   "id": "6e165634-6b94-4fa9-a2a5-e6f57e71b553",
   "metadata": {},
   "source": [
    "#### 13. Matrix Decomposition:"
   ]
  },
  {
   "cell_type": "markdown",
   "id": "08d4494f-691b-43ce-87ce-4cfe346a9b2a",
   "metadata": {},
   "source": [
    "##### Singular Value Decomposition (SVD):"
   ]
  },
  {
   "cell_type": "raw",
   "id": "94b63f86-3a37-4d34-a020-7dc304a2cfac",
   "metadata": {},
   "source": [
    "- Decomposition of a matrix into three other matrices."
   ]
  },
  {
   "cell_type": "code",
   "execution_count": 31,
   "id": "50b1be58-7f99-438e-8002-60014eb100a6",
   "metadata": {},
   "outputs": [],
   "source": [
    "U, S, Vt = np.linalg.svd(matrix)"
   ]
  },
  {
   "cell_type": "code",
   "execution_count": 32,
   "id": "041492e2-bc75-4664-8177-6332f67ae59b",
   "metadata": {},
   "outputs": [
    {
     "data": {
      "text/plain": [
       "(array([[-0.21483724,  0.88723069,  0.40824829],\n",
       "        [-0.52058739,  0.24964395, -0.81649658],\n",
       "        [-0.82633754, -0.38794278,  0.40824829]]),\n",
       " array([1.68481034e+01, 1.06836951e+00, 3.33475287e-16]),\n",
       " array([[-0.47967118, -0.57236779, -0.66506441],\n",
       "        [-0.77669099, -0.07568647,  0.62531805],\n",
       "        [-0.40824829,  0.81649658, -0.40824829]]))"
      ]
     },
     "execution_count": 32,
     "metadata": {},
     "output_type": "execute_result"
    }
   ],
   "source": [
    "U, S, Vt"
   ]
  },
  {
   "cell_type": "markdown",
   "id": "7878ff40-9029-45a1-b519-e8e301e55d74",
   "metadata": {},
   "source": [
    "##### b. Eigen Value Decomposition"
   ]
  },
  {
   "cell_type": "raw",
   "id": "bb0fabe1-46e9-400f-9719-afe33abe9d0e",
   "metadata": {},
   "source": [
    "- Decomposition of a matrix into eigenvalues and eigenvectors."
   ]
  },
  {
   "cell_type": "code",
   "execution_count": 33,
   "id": "52964fc1-ef07-4e65-8f55-aec50f75c92f",
   "metadata": {},
   "outputs": [],
   "source": [
    "eigen_values, eigen_vectors = np.linalg.eig(matrix)"
   ]
  },
  {
   "cell_type": "code",
   "execution_count": 34,
   "id": "3587369e-f048-4016-aa4d-6b1ec7aa402a",
   "metadata": {},
   "outputs": [
    {
     "data": {
      "text/plain": [
       "(array([ 1.61168440e+01, -1.11684397e+00, -3.38433605e-16]),\n",
       " array([[-0.23197069, -0.78583024,  0.40824829],\n",
       "        [-0.52532209, -0.08675134, -0.81649658],\n",
       "        [-0.8186735 ,  0.61232756,  0.40824829]]))"
      ]
     },
     "execution_count": 34,
     "metadata": {},
     "output_type": "execute_result"
    }
   ],
   "source": [
    "eigen_values, eigen_vectors"
   ]
  },
  {
   "cell_type": "markdown",
   "id": "db1e0933-be45-4afb-9ead-88e4588dccef",
   "metadata": {},
   "source": [
    "##### c. LU Decomposition"
   ]
  },
  {
   "cell_type": "code",
   "execution_count": null,
   "id": "ae61be90-2f51-483b-9548-c11a0f062bab",
   "metadata": {},
   "outputs": [],
   "source": []
  }
 ],
 "metadata": {
  "kernelspec": {
   "display_name": "Python 3 (ipykernel)",
   "language": "python",
   "name": "python3"
  },
  "language_info": {
   "codemirror_mode": {
    "name": "ipython",
    "version": 3
   },
   "file_extension": ".py",
   "mimetype": "text/x-python",
   "name": "python",
   "nbconvert_exporter": "python",
   "pygments_lexer": "ipython3",
   "version": "3.11.7"
  }
 },
 "nbformat": 4,
 "nbformat_minor": 5
}
